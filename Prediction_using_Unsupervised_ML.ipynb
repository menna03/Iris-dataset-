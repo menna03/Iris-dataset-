{
  "nbformat": 4,
  "nbformat_minor": 0,
  "metadata": {
    "colab": {
      "private_outputs": true,
      "provenance": [],
      "authorship_tag": "ABX9TyOa9IeYlQl+7+0AVwRYwQwF",
      "include_colab_link": true
    },
    "kernelspec": {
      "name": "python3",
      "display_name": "Python 3"
    },
    "language_info": {
      "name": "python"
    }
  },
  "cells": [
    {
      "cell_type": "markdown",
      "metadata": {
        "id": "view-in-github",
        "colab_type": "text"
      },
      "source": [
        "<a href=\"https://colab.research.google.com/github/menna03/Iris-dataset-/blob/main/Prediction_using_Unsupervised_ML.ipynb\" target=\"_parent\"><img src=\"https://colab.research.google.com/assets/colab-badge.svg\" alt=\"Open In Colab\"/></a>"
      ]
    },
    {
      "cell_type": "code",
      "execution_count": null,
      "metadata": {
        "id": "iX_Gz4-JCc6G"
      },
      "outputs": [],
      "source": [
        "# importing nessery librares \n",
        "import pandas as pd\n",
        "import numpy as np\n",
        "import matplotlib.pyplot as plt\n",
        "import seaborn as sns\n",
        "from sklearn.cluster import KMeans"
      ]
    },
    {
      "cell_type": "code",
      "source": [
        "# reding data set \n",
        "iris= pd.read_csv('/content/Iris.csv')\n",
        "\n",
        "iris.head()"
      ],
      "metadata": {
        "id": "xEqJzRImCnzF"
      },
      "execution_count": null,
      "outputs": []
    },
    {
      "cell_type": "markdown",
      "source": [
        "First we check if the data is clean and if there are any NULL or duplicate"
      ],
      "metadata": {
        "id": "03KpzCjlvu7f"
      }
    },
    {
      "cell_type": "code",
      "source": [
        "iris.duplicated().sum()\n"
      ],
      "metadata": {
        "id": "Sj9zKhBLC1Ty"
      },
      "execution_count": null,
      "outputs": []
    },
    {
      "cell_type": "code",
      "source": [
        "iris.isna().sum()* 100 / len(iris)\n"
      ],
      "metadata": {
        "id": "ncFiqvXhDD0y"
      },
      "execution_count": null,
      "outputs": []
    },
    {
      "cell_type": "code",
      "source": [
        "\n",
        "iris.dtypes\n"
      ],
      "metadata": {
        "id": "VmcZIYAhGW5b"
      },
      "execution_count": null,
      "outputs": []
    },
    {
      "cell_type": "markdown",
      "source": [
        "NO NULL or duplicate "
      ],
      "metadata": {
        "id": "SrNZyVfHv6Jv"
      }
    },
    {
      "cell_type": "markdown",
      "source": [
        "*understanding* the data "
      ],
      "metadata": {
        "id": "jNTCDuLIwAf5"
      }
    },
    {
      "cell_type": "code",
      "source": [
        "sns.relplot(x=\"SepalLengthCm\", y=\"SepalWidthCm\", hue=\"Species\",data=iris[:200]);"
      ],
      "metadata": {
        "id": "nGuZQLMtGm9p"
      },
      "execution_count": null,
      "outputs": []
    },
    {
      "cell_type": "code",
      "source": [
        "sns.relplot(x=\"PetalLengthCm\", y=\"PetalWidthCm\", hue=\"Species\",data=iris[:200]);"
      ],
      "metadata": {
        "id": "xNW-k281HqEg"
      },
      "execution_count": null,
      "outputs": []
    },
    {
      "cell_type": "code",
      "source": [
        "sns.pairplot(iris, hue='Species', height=2.5);"
      ],
      "metadata": {
        "id": "T3hY5eELHw_u"
      },
      "execution_count": null,
      "outputs": []
    },
    {
      "cell_type": "code",
      "source": [
        "iris[\"Species\"] = pd.Categorical(iris[\"Species\"])\n",
        "iris[\"Species\"] = iris[\"Species\"].cat.codes\n",
        "\n",
        "# Changing dataframe to numpy matrix\n",
        "data = iris.values[:, 0:4]\n",
        "category = iris.values[:, 4]"
      ],
      "metadata": {
        "id": "U2N8GglsnP7M"
      },
      "execution_count": null,
      "outputs": []
    },
    {
      "cell_type": "code",
      "source": [
        "k = 3\n",
        "# Training data\n",
        "n = data.shape[0]\n",
        "# Number of features in the data\n",
        "c = data.shape[1]"
      ],
      "metadata": {
        "id": "C1nAswPpnPzj"
      },
      "execution_count": null,
      "outputs": []
    },
    {
      "cell_type": "code",
      "source": [
        "# Generating random centers\n",
        "mean = np.mean(data, axis = 0)\n",
        "std = np.std(data, axis = 0)\n",
        "centers = np.random.randn(k,c)*std + mean"
      ],
      "metadata": {
        "id": "CDV8Qpc-tUct"
      },
      "execution_count": null,
      "outputs": []
    },
    {
      "cell_type": "code",
      "source": [
        "# Plotting data \n",
        "colors=['red', 'cyan', 'magenta']\n",
        "for i in range(n):\n",
        "    plt.scatter(data[i, 0], data[i,1], s=7, color = colors[int(category[i])])\n",
        "plt.scatter(centers[:,0], centers[:,1], marker='.', c='b', s=150)\n"
      ],
      "metadata": {
        "id": "4Nod-ItjfWwe"
      },
      "execution_count": null,
      "outputs": []
    },
    {
      "cell_type": "code",
      "source": [],
      "metadata": {
        "id": "RRlyCfjCq1PP"
      },
      "execution_count": null,
      "outputs": []
    },
    {
      "cell_type": "code",
      "source": [],
      "metadata": {
        "id": "hjcR4iXaq1L9"
      },
      "execution_count": null,
      "outputs": []
    }
  ]
}