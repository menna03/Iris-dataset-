{
  "nbformat": 4,
  "nbformat_minor": 0,
  "metadata": {
    "colab": {
      "private_outputs": true,
      "provenance": [],
      "authorship_tag": "ABX9TyNyYM1x2ktt569Xa1OhPymg",
      "include_colab_link": true
    },
    "kernelspec": {
      "name": "python3",
      "display_name": "Python 3"
    },
    "language_info": {
      "name": "python"
    }
  },
  "cells": [
    {
      "cell_type": "markdown",
      "metadata": {
        "id": "view-in-github",
        "colab_type": "text"
      },
      "source": [
        "<a href=\"https://colab.research.google.com/github/menna03/Iris-dataset-/blob/main/Iris_.ipynb\" target=\"_parent\"><img src=\"https://colab.research.google.com/assets/colab-badge.svg\" alt=\"Open In Colab\"/></a>"
      ]
    },
    {
      "cell_type": "code",
      "execution_count": null,
      "metadata": {
        "id": "iX_Gz4-JCc6G"
      },
      "outputs": [],
      "source": [
        "# importing nessery librares\n",
        "import pandas as pd\n",
        "import numpy as np\n",
        "import matplotlib.pyplot as plt\n",
        "import seaborn as sns\n",
        "from sklearn.cluster import KMeans"
      ]
    },
    {
      "cell_type": "code",
      "source": [
        "# reding data set\n",
        "iris= pd.read_csv('/content/Iris.csv')\n",
        "\n",
        "iris.head()"
      ],
      "metadata": {
        "id": "xEqJzRImCnzF"
      },
      "execution_count": null,
      "outputs": []
    },
    {
      "cell_type": "markdown",
      "source": [
        "First we check if the data is clean and if there are any NULL or duplicate"
      ],
      "metadata": {
        "id": "03KpzCjlvu7f"
      }
    },
    {
      "cell_type": "code",
      "source": [
        "iris.duplicated().sum()\n"
      ],
      "metadata": {
        "id": "Sj9zKhBLC1Ty"
      },
      "execution_count": null,
      "outputs": []
    },
    {
      "cell_type": "code",
      "source": [
        "iris.isna().sum()* 100 / len(iris)\n"
      ],
      "metadata": {
        "id": "ncFiqvXhDD0y"
      },
      "execution_count": null,
      "outputs": []
    },
    {
      "cell_type": "code",
      "source": [
        "iris.dtypes"
      ],
      "metadata": {
        "id": "VmcZIYAhGW5b"
      },
      "execution_count": null,
      "outputs": []
    },
    {
      "cell_type": "markdown",
      "source": [
        "NO NULL or duplicate"
      ],
      "metadata": {
        "id": "SrNZyVfHv6Jv"
      }
    },
    {
      "cell_type": "markdown",
      "source": [
        "*understanding* the data"
      ],
      "metadata": {
        "id": "jNTCDuLIwAf5"
      }
    },
    {
      "cell_type": "code",
      "source": [
        "sns.relplot(x=\"SepalLengthCm\", y=\"SepalWidthCm\", hue=\"Species\",data=iris[:200]);"
      ],
      "metadata": {
        "id": "nGuZQLMtGm9p"
      },
      "execution_count": null,
      "outputs": []
    },
    {
      "cell_type": "code",
      "source": [
        "sns.relplot(x=\"PetalLengthCm\", y=\"PetalWidthCm\", hue=\"Species\",data=iris[:200]);"
      ],
      "metadata": {
        "id": "xNW-k281HqEg"
      },
      "execution_count": null,
      "outputs": []
    },
    {
      "cell_type": "code",
      "source": [
        "sns.pairplot(iris, hue='Species', height=2.5);"
      ],
      "metadata": {
        "id": "T3hY5eELHw_u"
      },
      "execution_count": null,
      "outputs": []
    },
    {
      "cell_type": "code",
      "source": [
        "import pandas as pd\n",
        "import plotly.express as px\n",
        "from sklearn.cluster import KMeans\n",
        "\n",
        "# Create feature matrix\n",
        "X = iris.iloc[:, 1:5]\n",
        "\n",
        "# Initialize the KMeans model with the desired number of clusters (e.g., 3 for Iris dataset)\n",
        "kmeans = KMeans(n_clusters=3, random_state=42)\n",
        "\n",
        "# Fit the model to the data\n",
        "kmeans.fit(X)\n",
        "\n",
        "# Add the predicted labels to the DataFrame\n",
        "iris['Cluster'] = kmeans.labels_\n",
        "\n",
        "# Create an interactive 3D scatter plot with Plotly\n",
        "fig = px.scatter_3d(\n",
        "    iris,\n",
        "    x='SepalLengthCm',\n",
        "    y='SepalWidthCm',\n",
        "    z='PetalLengthCm',\n",
        "    color='PetalWidthCm',\n",
        "    symbol='Cluster',\n",
        "    size_max=10,\n",
        "    opacity=0.7,\n",
        "    title='Interactive 4D Scatter Plot',\n",
        "    labels={'PetalWidthCm': 'Petal Width (cm)'}\n",
        ")\n",
        "\n",
        "# Show the interactive plot\n",
        "fig.show()"
      ],
      "metadata": {
        "id": "WuzoK15-ypQ5"
      },
      "execution_count": null,
      "outputs": []
    },
    {
      "cell_type": "markdown",
      "source": [
        "# Kmean"
      ],
      "metadata": {
        "id": "2-Xk1M03_fsI"
      }
    },
    {
      "cell_type": "code",
      "source": [
        "iris[\"Species\"] = pd.Categorical(iris[\"Species\"])\n",
        "iris[\"Species\"] = iris[\"Species\"].cat.codes\n",
        "\n",
        "# Changing dataframe to numpy matrix\n",
        "data = iris.values[:, 0:4]\n",
        "category = iris.values[:, 4]"
      ],
      "metadata": {
        "id": "U2N8GglsnP7M"
      },
      "execution_count": null,
      "outputs": []
    },
    {
      "cell_type": "code",
      "source": [
        "k = 3\n",
        "# Training data\n",
        "n = data.shape[0]\n",
        "# Number of features in the data\n",
        "c = data.shape[1]"
      ],
      "metadata": {
        "id": "C1nAswPpnPzj"
      },
      "execution_count": null,
      "outputs": []
    },
    {
      "cell_type": "code",
      "source": [
        "# Generating random centers\n",
        "mean = np.mean(data, axis = 0)\n",
        "std = np.std(data, axis = 0)\n",
        "centers = np.random.randn(k,c)*std + mean"
      ],
      "metadata": {
        "id": "CDV8Qpc-tUct"
      },
      "execution_count": null,
      "outputs": []
    },
    {
      "cell_type": "markdown",
      "source": [
        " The scatter plot shows each data point colored according to its cluster assignment, and the cluster centers are marked with blue dots. This visualization helps you understand how the K-means algorithm has grouped the data into clusters based on their features."
      ],
      "metadata": {
        "id": "3LzaboJ53cTs"
      }
    },
    {
      "cell_type": "code",
      "source": [
        "# Plotting data\n",
        "colors=['red', 'orange', 'magenta']\n",
        "for i in range(n):\n",
        "    plt.scatter(data[i, 0], data[i,1], s=7, color = colors[int(category[i])])\n",
        "plt.scatter(centers[:,0], centers[:,1], marker='.', c='b', s=150)\n"
      ],
      "metadata": {
        "id": "4Nod-ItjfWwe"
      },
      "execution_count": null,
      "outputs": []
    },
    {
      "cell_type": "code",
      "source": [
        "# Create feature matrix\n",
        "X = iris.iloc[:, 1:5]\n",
        "X"
      ],
      "metadata": {
        "id": "dukhtyu4zii0"
      },
      "execution_count": null,
      "outputs": []
    },
    {
      "cell_type": "code",
      "source": [
        "# Initialize the KMeans model with the desired number of clusters (e.g., 3 for Iris dataset)\n",
        "kmeans = KMeans(n_clusters=3, random_state=42)\n",
        "\n",
        "# Fit the model to the data\n",
        "kmeans.fit(X)\n",
        "\n",
        "# Add the predicted labels to the DataFrame\n",
        "iris['Cluster'] = kmeans.labels_"
      ],
      "metadata": {
        "id": "k1HQlWxSz4UQ"
      },
      "execution_count": null,
      "outputs": []
    },
    {
      "cell_type": "code",
      "source": [
        "# Visualize the clusters on a scatter plot\n",
        "plt.figure(figsize=(12, 6))\n",
        "\n",
        "plt.subplot(1, 2, 1)\n",
        "plt.scatter(iris['SepalLengthCm'], iris['SepalWidthCm'], c=iris['Cluster'], cmap='viridis')\n",
        "plt.title('K-means Clustering')\n",
        "plt.xlabel('Sepal Length (cm)')\n",
        "plt.ylabel('Sepal Width (cm)')\n",
        "\n",
        "plt.subplot(1, 2, 2)\n",
        "plt.scatter(iris['PetalLengthCm'], iris['PetalWidthCm'], c=iris['Cluster'], cmap='viridis')\n",
        "plt.title('K-means Clustering')\n",
        "plt.xlabel('Petal Length (cm)')\n",
        "plt.ylabel('Petal Width (cm)')\n",
        "\n",
        "plt.tight_layout()\n",
        "plt.show()"
      ],
      "metadata": {
        "id": "hjcR4iXaq1L9"
      },
      "execution_count": null,
      "outputs": []
    },
    {
      "cell_type": "markdown",
      "source": [
        "# Hierarchical Clustering"
      ],
      "metadata": {
        "id": "zqzkfUA4_lbH"
      }
    },
    {
      "cell_type": "code",
      "source": [
        "import pandas as pd\n",
        "import numpy as np\n",
        "import matplotlib.pyplot as plt\n",
        "from sklearn.cluster import AgglomerativeClustering\n",
        "from scipy.cluster.hierarchy import dendrogram, linkage\n",
        "\n",
        "# Create feature matrix\n",
        "X = iris.iloc[:, 1:5]\n",
        "\n",
        "# Hierarchical clustering using AgglomerativeClustering\n",
        "model = AgglomerativeClustering(n_clusters=None, distance_threshold=0, linkage='ward')\n",
        "clusters = model.fit_predict(X)\n",
        "\n",
        "# Linkage matrix for dendrogram\n",
        "linkage_matrix = linkage(X, method='ward')\n"
      ],
      "metadata": {
        "id": "6BgJzd603wZe"
      },
      "execution_count": null,
      "outputs": []
    },
    {
      "cell_type": "code",
      "source": [
        "# Plot dendrogram\n",
        "plt.figure(figsize=(8, 5))\n",
        "dendrogram(linkage_matrix, truncate_mode='level', p=3)\n",
        "plt.title('Hierarchical Clustering Dendrogram')\n",
        "plt.xlabel('Data points')\n",
        "plt.ylabel('Distance')\n",
        "plt.show()"
      ],
      "metadata": {
        "id": "utIJRj6H4cG1"
      },
      "execution_count": null,
      "outputs": []
    },
    {
      "cell_type": "code",
      "source": [
        "# Plotting the data points with cluster assignments\n",
        "plt.figure(figsize=(8, 5))\n",
        "plt.scatter(X['SepalLengthCm'], X['SepalWidthCm'], c=clusters, cmap='viridis', s=50)\n",
        "plt.title('Hierarchical Clustering')\n",
        "plt.xlabel('Sepal Length (cm)')\n",
        "plt.ylabel('Sepal Width (cm)')\n",
        "plt.show()"
      ],
      "metadata": {
        "id": "8XxYbl0l4zSL"
      },
      "execution_count": null,
      "outputs": []
    },
    {
      "cell_type": "code",
      "source": [
        "# Create feature matrix\n",
        "X = iris.iloc[:, 3:5]  # Use 'PetalLengthCm' and 'PetalWidthCm'\n",
        "\n",
        "# Hierarchical clustering using AgglomerativeClustering\n",
        "model = AgglomerativeClustering(n_clusters=None, distance_threshold=0, linkage='ward')\n",
        "clusters = model.fit_predict(X)\n",
        "\n",
        "# Linkage matrix for dendrogram\n",
        "linkage_matrix = linkage(X, method='ward')\n"
      ],
      "metadata": {
        "id": "-XCRhXes4zuJ"
      },
      "execution_count": null,
      "outputs": []
    },
    {
      "cell_type": "code",
      "source": [
        "# Plot dendrogram\n",
        "plt.figure(figsize=(8, 5))\n",
        "dendrogram(linkage_matrix, truncate_mode='level', p=3)\n",
        "plt.title('Hierarchical Clustering Dendrogram (PetalLengthCm and PetalWidthCm)')\n",
        "plt.xlabel('Data points')\n",
        "plt.ylabel('Distance')\n",
        "plt.show()"
      ],
      "metadata": {
        "id": "ljql7rK--d0P"
      },
      "execution_count": null,
      "outputs": []
    },
    {
      "cell_type": "code",
      "source": [
        "# Plotting the data points with cluster assignments\n",
        "plt.figure(figsize=(8, 5))\n",
        "plt.scatter(X['PetalLengthCm'], X['PetalWidthCm'], c=clusters, cmap='viridis', s=50)\n",
        "plt.title('Hierarchical Clustering (PetalLengthCm and PetalWidthCm)')\n",
        "plt.xlabel('Petal Length (cm)')\n",
        "plt.ylabel('Petal Width (cm)')\n",
        "plt.show()"
      ],
      "metadata": {
        "id": "bgH5zTBv-k-s"
      },
      "execution_count": null,
      "outputs": []
    },
    {
      "cell_type": "markdown",
      "source": [
        "# DBSCAN"
      ],
      "metadata": {
        "id": "xpPIS5DT_whU"
      }
    },
    {
      "cell_type": "code",
      "source": [
        "import pandas as pd\n",
        "import matplotlib.pyplot as plt\n",
        "from sklearn.cluster import DBSCAN\n",
        "from sklearn.preprocessing import StandardScaler\n",
        "\n",
        "# Create feature matrix\n",
        "X = iris.iloc[:, 3:5]  # Use 'PetalLengthCm' and 'PetalWidthCm'\n",
        "\n",
        "# Standardize the features\n",
        "scaler = StandardScaler()\n",
        "X_scaled = scaler.fit_transform(X)\n",
        "\n",
        "# DBSCAN clustering\n",
        "dbscan = DBSCAN(eps=0.5, min_samples=5)\n",
        "clusters = dbscan.fit_predict(X_scaled)\n",
        "\n",
        "# Plotting the data points with cluster assignments\n",
        "plt.figure(figsize=(12, 8))\n",
        "plt.scatter(X['PetalLengthCm'], X['PetalWidthCm'], c=clusters, cmap='viridis', s=50)\n",
        "plt.title('DBSCAN Clustering (PetalLengthCm and PetalWidthCm)')\n",
        "plt.xlabel('Petal Length (cm)')\n",
        "plt.ylabel('Petal Width (cm)')\n",
        "plt.show()"
      ],
      "metadata": {
        "id": "TZDvu6CJ-q3q"
      },
      "execution_count": null,
      "outputs": []
    },
    {
      "cell_type": "code",
      "source": [
        "# Create feature matrix\n",
        "X = iris.iloc[:, 1:3]  # Use 'SepalLengthCm' and 'SepalWidthCm'\n",
        "\n",
        "# Standardize the features\n",
        "scaler = StandardScaler()\n",
        "X_scaled = scaler.fit_transform(X)\n",
        "\n",
        "# DBSCAN clustering\n",
        "dbscan = DBSCAN(eps=0.5, min_samples=5)\n",
        "clusters = dbscan.fit_predict(X_scaled)\n",
        "\n",
        "# Plotting the data points with cluster assignments\n",
        "plt.figure(figsize=(12, 8))\n",
        "plt.scatter(X['SepalLengthCm'], X['SepalWidthCm'], c=clusters, cmap='viridis', s=50)\n",
        "plt.title('DBSCAN Clustering (SepalLengthCm and SepalWidthCm)')\n",
        "plt.xlabel('Sepal Length (cm)')\n",
        "plt.ylabel('Sepal Width (cm)')\n",
        "plt.show()"
      ],
      "metadata": {
        "id": "YhpPfWoC_D96"
      },
      "execution_count": null,
      "outputs": []
    },
    {
      "cell_type": "code",
      "source": [],
      "metadata": {
        "id": "DvNjSJ2A_V5K"
      },
      "execution_count": null,
      "outputs": []
    }
  ]
}